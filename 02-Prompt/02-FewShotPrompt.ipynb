{
 "cells": [
  {
   "cell_type": "markdown",
   "metadata": {},
   "source": [
    "## Few-Shot Prompt\n",
    "\n",
    "Zero-Shot Prompt는 아무런 예시를 주지 않고, LLM이 주어진 질문에 대한 답변을 제공하는 방식입니다.\n",
    "\n",
    "반면, Few-Shot Prompt는 LLM한테 특정 지시문과 함께 답변의 예시들을 기반으로 in context learning을 하는 기법입니다.\n",
    "\n",
    "대부분의 경우 Zero-Shot Prompt보다 Few-Shot Prompt가 더 효과적입니다.\n",
    "\n",
    "Zero-Shot이 더 좋은 경우는 사용자가 잘못 된 예시를 던져줄 경우나 LLM 자체 성능이 낮은 경우입니다."
   ]
  },
  {
   "cell_type": "code",
   "execution_count": 6,
   "metadata": {},
   "outputs": [
    {
     "data": {
      "text/plain": [
       "True"
      ]
     },
     "execution_count": 6,
     "metadata": {},
     "output_type": "execute_result"
    }
   ],
   "source": [
    "# API KEY 값이 들어 있는 환경 변수 로드\n",
    "# 새로운 실습 파일이 만들어 질 때마다 맨 상위에 항상 해당 코드를 넣어주세요.\n",
    "from dotenv import load_dotenv\n",
    "\n",
    "load_dotenv()"
   ]
  },
  {
   "cell_type": "code",
   "execution_count": 7,
   "metadata": {},
   "outputs": [
    {
     "name": "stdout",
     "output_type": "stream",
     "text": [
      "[답변]: content='영화: Jurassic Park → 장르: SF, 액션, 모험' additional_kwargs={'refusal': None} response_metadata={'token_usage': {'completion_tokens': 17, 'prompt_tokens': 65, 'total_tokens': 82, 'completion_tokens_details': {'accepted_prediction_tokens': 0, 'audio_tokens': 0, 'reasoning_tokens': 0, 'rejected_prediction_tokens': 0}, 'prompt_tokens_details': {'audio_tokens': 0, 'cached_tokens': 0}}, 'model_name': 'gpt-4o-mini-2024-07-18', 'system_fingerprint': 'fp_72ed7ab54c', 'finish_reason': 'stop', 'logprobs': None} id='run-0064922c-f964-4b38-afae-e0a6a0c1b9db-0' usage_metadata={'input_tokens': 65, 'output_tokens': 17, 'total_tokens': 82, 'input_token_details': {'audio': 0, 'cache_read': 0}, 'output_token_details': {'audio': 0, 'reasoning': 0}}\n"
     ]
    }
   ],
   "source": [
    "from langchain_openai import ChatOpenAI\n",
    "\n",
    "# LLM 모델 정의\n",
    "llm = ChatOpenAI(\n",
    "    temperature=0.1,\n",
    "    model_name=\"gpt-4o-mini\",  # 모델명\n",
    ")\n",
    "\n",
    "# 질문\n",
    "instruction = \"\"\"영화: Inception → 장르: SF, 액션\n",
    "영화: The Notebook → 장르: 로맨스, 드라마\n",
    "영화: The Conjuring → 장르: 공포, 스릴러\n",
    "영화: Jurassic Park → 장르: \"\"\"\n",
    "\n",
    "# 대답 요청\n",
    "print(f\"[답변]: {llm.invoke(instruction)}\")"
   ]
  },
  {
   "cell_type": "markdown",
   "metadata": {},
   "source": [
    "Few-Shot은 일반적으로 1-shot, 3-shot, 5-shot 처럼 점점 n 값을 늘려나갈수록 답변의 퀄리티가 좋아진다고 볼 수 있습니다.\n",
    "\n",
    "\n",
    "\n",
    "머신러닝 계열에서 학습 데이터 수가 다양해지고, 많아질수록 유연하고 좋은 성능을 낼 수 있는 원리와 같이\n",
    "\n",
    "Few-Shot도 좋은 예시들이 많아지면 많아질수록 답변 퀄리티가 자연스럽게 높아지는 것과 같다고 할 수 있습니다.\n",
    "\n",
    "일반적인 내용이라면 많은 예시가 없어도 되겠지만, 일반적이지 않은 도메인에 대한 데이터로 Few-Shot을 하게 되면\n",
    "\n",
    "더욱 다양한 사례들을 넣어서 답변을 받아보는 것이 더 좋습니다."
   ]
  },
  {
   "cell_type": "code",
   "execution_count": 8,
   "metadata": {},
   "outputs": [
    {
     "name": "stdout",
     "output_type": "stream",
     "text": [
      "[답변]: 영화 \"The Matrix\"는 현실과 가상 현실의 경계를 탐구하는 사이언스 픽션 영화입니다. 주인공 네오(키아누 리브스)는 평범한 컴퓨터 프로그래머로, 자신이 진정한 현실을 살고 있는지 의문을 품고 있습니다. 어느 날, 그는 모피어스(로렌스 피시번)라는 인물과 만나게 되고, 그로부터 인류가 기계에 의해 지배당하고 있으며, 우리가 알고 있는 현실은 사실 가상 현실인 '매트릭스'라는 충격적인 진실을 알게 됩니다.\n",
      "\n",
      "모피어스는 네오에게 매트릭스의 진실을 보여주고, 그가 인류의 구세주인 '원'일 수 있다는 믿음을 가지고 그를 훈련시킵니다. 네오는 매트릭스 안에서 다양한 전투와 도전을 겪으며, 자신의 능력을 깨닫고 진정한 현실을 위해 싸우게 됩니다. 영화는 인간의 자유 의지, 현실의 본질, 그리고 기술의 위험성에 대한 깊은 질문을 던지며, 시각적으로도 혁신적인 액션 장면과 철학적 요소로 많은 사랑을 받았습니다.\n"
     ]
    }
   ],
   "source": [
    "from langchain_openai import ChatOpenAI\n",
    "\n",
    "# LLM 모델 정의\n",
    "llm = ChatOpenAI(\n",
    "    temperature=0.1,\n",
    "    model_name=\"gpt-4o-mini\",  # 모델명\n",
    ")\n",
    "    \n",
    "# 1-shot 예시\n",
    "instruction = \"\"\"영화: Inception → 줄거리: 꿈 속에서 타인의 생각을 훔치는 도둑 코브는 마지막 임무를 성공하면 자유를 얻을 수 있다는 조건으로 새로운 임무를 받는다. 하지만 이 임무는 그가 상상도 못한 위험을 초래한다.\n",
    "영화: The Matrix → 줄거리: \"\"\"\n",
    "\n",
    "response = llm.invoke(instruction)\n",
    "# 대답 요청\n",
    "print(f\"[답변]: {response.content}\")"
   ]
  },
  {
   "cell_type": "code",
   "execution_count": 9,
   "metadata": {},
   "outputs": [
    {
     "name": "stdout",
     "output_type": "stream",
     "text": [
      "[답변]: 영화: The Matrix → 줄거리: 네오라는 해커는 현실이 가상 세계임을 알게 되고, 인류를 지배하는 기계들과의 전쟁에 휘말린다. 그는 모피어스와 트리니티와 함께 진정한 현실을 찾고 인류를 구하기 위한 싸움에 나선다. 네오는 자신의 운명을 받아들이고, '원주율'로서 인류의 희망이 되기 위해 싸운다.\n"
     ]
    }
   ],
   "source": [
    "# 3-shot 예시\n",
    "instruction = \"\"\"영화: Inception → 줄거리: 꿈 속에서 타인의 생각을 훔치는 도둑 코브는 마지막 임무를 성공하면 자유를 얻을 수 있다는 조건으로 새로운 임무를 받는다. 하지만 이 임무는 그가 상상도 못한 위험을 초래한다.\n",
    "영화: The Dark Knight → 줄거리: 고담 시티를 지키기 위해 배트맨은 조커와 맞서 싸워야 한다. 조커의 광기 어린 계획을 막기 위해 배트맨은 자신의 한계를 시험받는다.\n",
    "영화: Interstellar → 줄거리: 인류의 멸종 위기 속에서 우주비행사들은 새로운 행성을 찾기 위해 광활한 우주를 탐험한다. 시간과 공간을 초월한 여정에서 그들은 사랑과 희생의 의미를 깨닫는다.\n",
    "영화: The Matrix → 줄거리: \"\"\"\n",
    "\n",
    "response = llm.invoke(instruction)\n",
    "# 대답 요청\n",
    "print(f\"[답변]: {response.content}\")"
   ]
  },
  {
   "cell_type": "code",
   "execution_count": 10,
   "metadata": {},
   "outputs": [
    {
     "name": "stdout",
     "output_type": "stream",
     "text": [
      "[답변]: 영화: The Matrix → 줄거리: 네오라는 해커는 현실이 가상 세계임을 알게 되고, 인류를 지배하는 기계들과의 전쟁에 휘말린다. 그는 모피어스와 트리니티의 도움을 받아 진정한 현실을 찾고, 인류의 자유를 위해 싸우는 선택을 하게 된다. 이 과정에서 그는 자신의 운명과 정체성을 발견하게 된다.\n"
     ]
    }
   ],
   "source": [
    "# 5-shot 예시\n",
    "instruction = \"\"\"영화: Inception → 줄거리: 꿈 속에서 타인의 생각을 훔치는 도둑 코브는 마지막 임무를 성공하면 자유를 얻을 수 있다는 조건으로 새로운 임무를 받는다. 하지만 이 임무는 그가 상상도 못한 위험을 초래한다.\n",
    "영화: The Dark Knight → 줄거리: 고담 시티를 지키기 위해 배트맨은 조커와 맞서 싸워야 한다. 조커의 광기 어린 계획을 막기 위해 배트맨은 자신의 한계를 시험받는다.\n",
    "영화: Interstellar → 줄거리: 인류의 멸종 위기 속에서 우주비행사들은 새로운 행성을 찾기 위해 광활한 우주를 탐험한다. 시간과 공간을 초월한 여정에서 그들은 사랑과 희생의 의미를 깨닫는다.\n",
    "영화: The Notebook → 줄거리: 두 연인 노아와 앨리는 사회적 차이와 전쟁으로 인해 갈라지지만, 오랜 시간이 지난 후 다시 만나 사랑을 되찾는다. 이들의 이야기는 노년의 앨리가 기억을 잃어가는 과정에서 회상된다.\n",
    "영화: The Conjuring → 줄거리: 악령에 시달리는 가족을 돕기 위해 초자연적 현상 조사가인 워렌 부부가 찾아온다. 그들은 집안에 숨겨진 끔찍한 비밀을 밝혀내려고 한다.\n",
    "영화: The Matrix → 줄거리: \"\"\"\n",
    "\n",
    "response = llm.invoke(instruction)\n",
    "# 대답 요청\n",
    "print(f\"[답변]: {response.content}\")"
   ]
  }
 ],
 "metadata": {
  "kernelspec": {
   "display_name": ".venv",
   "language": "python",
   "name": "python3"
  },
  "language_info": {
   "codemirror_mode": {
    "name": "ipython",
    "version": 3
   },
   "file_extension": ".py",
   "mimetype": "text/x-python",
   "name": "python",
   "nbconvert_exporter": "python",
   "pygments_lexer": "ipython3",
   "version": "3.11.11"
  }
 },
 "nbformat": 4,
 "nbformat_minor": 2
}
