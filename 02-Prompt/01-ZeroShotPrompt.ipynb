{
 "cells": [
  {
   "cell_type": "markdown",
   "metadata": {},
   "source": [
    "## Prompt\n",
    "\n",
    "Prompt는 LLM한테서 원하는 출력을 이끌어내기 위해 사용하는 입력 텍스트입니다.\n",
    "쉽게 설명하면, 모델에게 질문이나 지시를 하는 \"시작 문장\" 또는 \"지시문\"이라고 생각하면 됩니다.\n",
    "\n",
    "예를 들면, \"프랑스의 수도는 어디인가요?\"라는 질문을 모델에게 던지면, 이 질문 자체가 Prompt입니다.\n",
    "\"간단한 요리법을 알려주세요\"라고 요청하는 것도 Prompt입니다.\n",
    "\n",
    "\n",
    "## Zero-Shot Prompt\n",
    "\n",
    "Zero-Shot Prompt는 LLM이 학습한 내용을 끌어내기 위한 가장 기본적인 Prompt 방법 중 하나입니다.\n",
    "\n",
    "즉, 모델에게 추가적인 예시나 설명 없이 바로 원하는 작업을 지시하는 것입니다.\n",
    "\n",
    "예시\n",
    "- 번역 작업\n",
    "    - Prompt: \"영어로 '안녕하세요'를 번역해 주세요.\"\n",
    "    - 모델의 출력: \"Hello.\"\n",
    "- 요약 작업\n",
    "    - Prompt: \"다음 텍스트를 한 문장으로 요약해 주세요: '오늘은 날씨가 매우 화창하고 따뜻해서 나들이하기 좋은 날입니다.'\"\n",
    "    - 모델의 출력: \"오늘은 나들이하기 좋은 화창하고 따뜻한 날씨입니다.\"\n",
    "- 질문 답변\n",
    "    - Prompt: \"지구에서 가장 큰 행성은 무엇인가요?\"\n",
    "    - 모델의 출력: \"목성입니다.\""
   ]
  },
  {
   "cell_type": "code",
   "execution_count": 1,
   "metadata": {},
   "outputs": [
    {
     "data": {
      "text/plain": [
       "True"
      ]
     },
     "execution_count": 1,
     "metadata": {},
     "output_type": "execute_result"
    }
   ],
   "source": [
    "# API KEY 값이 들어 있는 환경 변수 로드\n",
    "# 새로운 실습 파일이 만들어 질 때마다 맨 상위에 항상 해당 코드를 넣어주세요.\n",
    "from dotenv import load_dotenv\n",
    "\n",
    "load_dotenv()"
   ]
  },
  {
   "cell_type": "code",
   "execution_count": 3,
   "metadata": {},
   "outputs": [
    {
     "name": "stdout",
     "output_type": "stream",
     "text": [
      "[답변]: content='로맨스' additional_kwargs={'refusal': None} response_metadata={'token_usage': {'completion_tokens': 4, 'prompt_tokens': 72, 'total_tokens': 76, 'completion_tokens_details': {'accepted_prediction_tokens': 0, 'audio_tokens': 0, 'reasoning_tokens': 0, 'rejected_prediction_tokens': 0}, 'prompt_tokens_details': {'audio_tokens': 0, 'cached_tokens': 0}}, 'model_name': 'gpt-4o-mini-2024-07-18', 'system_fingerprint': 'fp_72ed7ab54c', 'finish_reason': 'stop', 'logprobs': None} id='run-851c0624-589e-4367-81b4-641eb724b923-0' usage_metadata={'input_tokens': 72, 'output_tokens': 4, 'total_tokens': 76, 'input_token_details': {'audio': 0, 'cache_read': 0}, 'output_token_details': {'audio': 0, 'reasoning': 0}}\n"
     ]
    }
   ],
   "source": [
    "from langchain_openai import ChatOpenAI\n",
    "\n",
    "# LLM 모델 정의\n",
    "llm = ChatOpenAI(\n",
    "    temperature=0.1,\n",
    "    model_name=\"gpt-4o-mini\",  # 모델명\n",
    ")\n",
    "\n",
    "# 질문\n",
    "instruction = \"\"\"[영화 제목]을 보고 영화 장르 반드시 하나로 분류해주세요.\n",
    "[선택지]: `코미디`, `로맨스`, `액션`, `SF`, `그외`으로 분류합니다.\n",
    "[영화 제목]: 타이타닉\n",
    "[영화 장르]: \"\"\"\n",
    "\n",
    "# 대답 요청\n",
    "print(f\"[답변]: {llm.invoke(instruction)}\")"
   ]
  }
 ],
 "metadata": {
  "kernelspec": {
   "display_name": ".venv",
   "language": "python",
   "name": "python3"
  },
  "language_info": {
   "codemirror_mode": {
    "name": "ipython",
    "version": 3
   },
   "file_extension": ".py",
   "mimetype": "text/x-python",
   "name": "python",
   "nbconvert_exporter": "python",
   "pygments_lexer": "ipython3",
   "version": "3.11.11"
  }
 },
 "nbformat": 4,
 "nbformat_minor": 2
}
