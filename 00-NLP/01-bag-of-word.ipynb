{
 "cells": [
  {
   "cell_type": "markdown",
   "metadata": {},
   "source": [
    "## Bag of Words\n",
    "\n",
    "BoW는 자연어 처리(NLP)에서 **텍스트 데이터를 숫자 형태**로 표현하는 간단하면서도 효과적인 방법 중 하나입니다. 이 방식은 텍스트를 단어의 집합으로 간주하며, **단어의 순서나 문법적 구조는 무시**하고 단어의 출현 빈도에 초점을 맞춥니다.\n",
    "\n",
    "다음과 같은 세 개의 문장이 있다고 가정해 보겠습니다.\n",
    "\n",
    "- I love natural language processing\n",
    "- I love popcorn\n",
    "- I enjoy cooking\n",
    "\n",
    "위 문장의 **단어 사전**은 다음과 같이 생성됩니다.\n",
    "\n",
    "`[\"I\", \"love\", \"natural\", \"language\", \"processing\", \"popcorn\", \"enjoy\", \"cooking\"]`\n",
    "\n",
    "각 문장을 BoW로 표현하면,\n",
    "\n",
    "- `I love natural language processing` ⇒ **[1, 1, 1, 1, 1, 0, 0, 0]\n",
    "⇒** \"I\", \"love\", \"natural\", \"language\", \"processing\" 각각 1번씩 등장\n",
    "- `I love popcorn` ⇒ **[1, 1, 0, 0, 0, 1, 0, 0]**\n",
    "⇒ \"I\", \"love\", \"popcorn\" 각각 1번씩 등장\n",
    "- `I enjoy cooking` ⇒ **[1, 0, 0, 0, 0, 0, 1, 1]\n",
    "⇒** \"I\", \"enjoy\", \"cooking\" 각각 1번씩 등장\n",
    "\n",
    "### BoW의 장점\n",
    "\n",
    "- 구현이 간단하고 이해하기 쉽습니다.\n",
    "- 텍스트 데이터를 수치적으로 표현할 수 있어 머신러닝 모델에 적용하기 용이합니다.\n",
    "\n",
    "### BoW의 단점\n",
    "\n",
    "- **단어의 순서와 문맥 정보가 무시**됩니다.\n",
    "- 희소 행렬 문제가 발생할 수 있습니다.(단어 사전이 커지면 벡터의 차원이 매우 커짐).\n",
    "- 불용어(stopwords)나 동의어 처리 등에 대한 추가 작업이 필요합니다.\n",
    "\n",
    "### 한계점\n",
    "\n",
    "- **단어 순서 무시** : BoW는 텍스트를 단어의 집합으로 간주하여 단어의 순서를 완전히 무시합니다. 이로 인해 \"나는 너를 좋아한다\"와 \"너는 나를 좋아한다\"와 같은 문장이 동일하게 처리될 수 있습니다. 단어 순서가 중요한 경우(예: 문맥, 구문 구조) 정보 손실이 발생합니다.\n",
    "- **의미 정보 손실** : BoW는 단어의 형태만을 고려하고, 단어 간의 의미적 관계나 문맥을 반영하지 않습니다. 예를 들어, \"강아지\"와 \"개\"가 유사한 의미를 가지더라도 BoW는 이를 다른 특성으로 처리합니다.\n",
    "- **희소성 문제(Sparsity)** : BoW는 단어의 존재 여부만을 고려하므로, 대부분의 문서에서 대부분의 단어가 등장하지 않아 벡터가 매우 희소(sparse)해집니다. 이는 고차원의 데이터를 생성하며, 메모리와 계산 비용이 증가할 수 있습니다.\n",
    "- **단어 중요도 반영 부족** : BoW는 모든 단어를 동일한 중요도로 취급합니다. 그러나 실제로는 특정 단어가 문서의 의미를 더 잘 나타낼 수 있습니다(예: \"the\", \"is\"와 같은 불용어는 중요도가 낮음). 이를 보완하기 위해 TF-IDF와 같은 가중치 기법이 사용되기도 하지만, BoW 자체는 이를 고려하지 않습니다.\n",
    "- **동음이의어 및 다의어 문제** : BoW는 단어의 의미를 구분하지 않습니다. 예를 들어, \"bank\"라는 단어는 \"은행\"과 \"강둑\"이라는 두 가지 의미를 가지지만, BoW는 이를 동일한 특성으로 처리합니다.\n",
    "- **문서 길이에 대한 민감성** : BoW는 문서의 길이에 영향을 받습니다. 긴 문서는 더 많은 단어를 포함할 가능성이 높아 벡터의 크기가 커지고, 짧은 문서와의 비교가 어려울 수 있습니다.\n",
    "- **확장성 문제** : 단어 집합(vocabulary)이 커질수록 벡터의 차원이 급격히 증가하며, 이는 계산 복잡성과 저장 공간 문제를 야기할 수 있습니다."
   ]
  },
  {
   "cell_type": "code",
   "execution_count": 1,
   "metadata": {},
   "outputs": [],
   "source": [
    "class BagOfWords:\n",
    "    def __init__(self):\n",
    "        self.vocabulary = {}  # 단어 사전 (단어: 인덱스)\n",
    "        self.bow_vectors = []  # BoW 벡터 리스트\n",
    "        self.sentences = []  # 입력된 문장 저장\n",
    "\n",
    "    def add_sentence(self, sentence):\n",
    "        \"\"\"\n",
    "        새로운 문장을 추가하고 단어 사전과 BoW 벡터를 업데이트합니다.\n",
    "        \"\"\"\n",
    "        self.sentences.append(sentence)\n",
    "        words = sentence.split()\n",
    "\n",
    "        # 단어 사전 업데이트\n",
    "        for word in words:\n",
    "            if word not in self.vocabulary:\n",
    "                self.vocabulary[word] = len(\n",
    "                    self.vocabulary\n",
    "                )  # 새로운 단어에 인덱스 부여\n",
    "\n",
    "        # 기존 BoW 벡터 업데이트\n",
    "        for i in range(len(self.bow_vectors)):\n",
    "            vector = self.bow_vectors[i]\n",
    "            while len(vector) < len(\n",
    "                self.vocabulary\n",
    "            ):  # 새로운 단어가 추가되면 0으로 채움\n",
    "                vector.append(0)\n",
    "\n",
    "        # 새로운 문장에 대한 BoW 벡터 생성\n",
    "        new_vector = [0] * len(self.vocabulary)\n",
    "        for word in words:\n",
    "            if word in self.vocabulary:\n",
    "                new_vector[self.vocabulary[word]] += 1\n",
    "        self.bow_vectors.append(new_vector)\n",
    "\n",
    "    @property\n",
    "    def current_vocabulary(self):\n",
    "        \"\"\"\n",
    "        현재 단어 사전을 반환합니다.\n",
    "        \"\"\"\n",
    "        return self.vocabulary\n",
    "\n",
    "    @property\n",
    "    def current_vectors(self):\n",
    "        \"\"\"\n",
    "        현재까지의 BoW 벡터를 반환합니다.\n",
    "        \"\"\"\n",
    "        return self.bow_vectors\n",
    "\n",
    "    def __str__(self):\n",
    "        \"\"\"\n",
    "        현재 상태를 문자열로 출력합니다.\n",
    "        \"\"\"\n",
    "        return f\"Vocabulary: {self.vocabulary}\\nBoW Vectors: {self.bow_vectors}\""
   ]
  },
  {
   "cell_type": "code",
   "execution_count": 2,
   "metadata": {},
   "outputs": [],
   "source": [
    "# BoW 객체 생성\n",
    "bow = BagOfWords()"
   ]
  },
  {
   "cell_type": "code",
   "execution_count": 3,
   "metadata": {},
   "outputs": [
    {
     "name": "stdout",
     "output_type": "stream",
     "text": [
      "Vocabulary: {'I': 0, 'love': 1, 'natural': 2, 'language': 3, 'processing': 4, 'popcorn': 5, 'enjoy': 6, 'cooking': 7}\n",
      "BoW Vectors: [[1, 1, 1, 1, 1, 0, 0, 0], [1, 1, 0, 0, 0, 1, 0, 0], [1, 0, 0, 0, 0, 0, 1, 1]]\n"
     ]
    }
   ],
   "source": [
    "# 문장 추가\n",
    "bow.add_sentence(\"I love natural language processing\")\n",
    "bow.add_sentence(\"I love popcorn\")\n",
    "bow.add_sentence(\"I enjoy cooking\")\n",
    "\n",
    "# 현재 상태 출력\n",
    "print(bow)"
   ]
  },
  {
   "cell_type": "code",
   "execution_count": 4,
   "metadata": {},
   "outputs": [
    {
     "name": "stdout",
     "output_type": "stream",
     "text": [
      "\n",
      "새로운 문장 추가 후:\n",
      "Vocabulary: {'I': 0, 'love': 1, 'natural': 2, 'language': 3, 'processing': 4, 'popcorn': 5, 'enjoy': 6, 'cooking': 7, 'deep': 8, 'learning': 9}\n",
      "BoW Vectors: [[1, 1, 1, 1, 1, 0, 0, 0, 0, 0], [1, 1, 0, 0, 0, 1, 0, 0, 0, 0], [1, 0, 0, 0, 0, 0, 1, 1, 0, 0], [1, 1, 0, 0, 0, 0, 0, 0, 1, 1]]\n"
     ]
    }
   ],
   "source": [
    "# 새로운 문장 추가\n",
    "bow.add_sentence(\"I love deep learning\")\n",
    "\n",
    "# 업데이트된 상태 출력\n",
    "print(\"\\n새로운 문장 추가 후:\")\n",
    "print(bow)"
   ]
  },
  {
   "cell_type": "code",
   "execution_count": 5,
   "metadata": {},
   "outputs": [
    {
     "name": "stdout",
     "output_type": "stream",
     "text": [
      "\n",
      "Current Vocabulary:\n",
      "{'I': 0, 'love': 1, 'natural': 2, 'language': 3, 'processing': 4, 'popcorn': 5, 'enjoy': 6, 'cooking': 7, 'deep': 8, 'learning': 9}\n",
      "\n",
      "Current Vectors:\n",
      "[[1, 1, 1, 1, 1, 0, 0, 0, 0, 0], [1, 1, 0, 0, 0, 1, 0, 0, 0, 0], [1, 0, 0, 0, 0, 0, 1, 1, 0, 0], [1, 1, 0, 0, 0, 0, 0, 0, 1, 1]]\n"
     ]
    }
   ],
   "source": [
    "# Vocabulary와 Vectors를 별도로 확인\n",
    "print(\"\\nCurrent Vocabulary:\")\n",
    "print(bow.current_vocabulary)\n",
    "\n",
    "print(\"\\nCurrent Vectors:\")\n",
    "print(bow.current_vectors)"
   ]
  }
 ],
 "metadata": {
  "kernelspec": {
   "display_name": ".venv",
   "language": "python",
   "name": "python3"
  },
  "language_info": {
   "codemirror_mode": {
    "name": "ipython",
    "version": 3
   },
   "file_extension": ".py",
   "mimetype": "text/x-python",
   "name": "python",
   "nbconvert_exporter": "python",
   "pygments_lexer": "ipython3",
   "version": "3.11.11"
  }
 },
 "nbformat": 4,
 "nbformat_minor": 2
}
