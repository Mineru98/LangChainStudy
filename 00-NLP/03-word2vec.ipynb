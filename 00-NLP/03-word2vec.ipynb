{
 "cells": [
  {
   "cell_type": "code",
   "execution_count": 3,
   "metadata": {},
   "outputs": [],
   "source": [
    "from typing import List, Dict\n",
    "\n",
    "class SparseOneHotEncoder:\n",
    "    def __init__(self):\n",
    "        self.word_to_index = {}  # 단어를 인덱스로 매핑\n",
    "        self.index_to_word = {}  # 인덱스를 단어로 매핑\n",
    "        self.vocab_size = 0      # 어휘 사전 크기\n",
    "\n",
    "    def fit(self, words: List[str]):\n",
    "        \"\"\"단어 리스트를 받아 어휘 사전을 구축합니다.\"\"\"\n",
    "        unique_words = sorted(list(set(words)))   # 중복 제거\n",
    "        self.word_to_index = {word: i for i, word in enumerate(unique_words)}\n",
    "        self.index_to_word = {i: word for word, i in self.word_to_index.items()}\n",
    "        self.vocab_size = len(unique_words)\n",
    "\n",
    "    def transform(self, words: List[str]) -> List[Dict[int, int]]:\n",
    "        \"\"\"단어 리스트를 희소 행렬 형태로 변환한 후, 밀집 행렬로 출력합니다.\"\"\"\n",
    "        sparse_matrix = []  # 희소 행렬을 저장할 리스트 (행 단위로 저장)\n",
    "\n",
    "        for word in words:\n",
    "            if word in self.word_to_index:\n",
    "                # 각 단어의 인덱스를 찾아서 희소 행렬의 해당 위치를 1로 설정\n",
    "                row = {self.word_to_index[word]: 1}\n",
    "                sparse_matrix.append(row)\n",
    "            else:\n",
    "                # 어휘 사전에 없는 단어는 빈 딕셔너리로 처리\n",
    "                sparse_matrix.append({})\n",
    "\n",
    "        # 희소 행렬을 밀집 행렬로 변환\n",
    "        dense_matrix = []\n",
    "        for row in sparse_matrix:\n",
    "            dense_row = [0] * self.vocab_size  # 모든 값이 0인 행 생성\n",
    "            for col_index, value in row.items():\n",
    "                dense_row[col_index] = value  # 1인 위치만 업데이트\n",
    "            dense_matrix.append(dense_row)\n",
    "\n",
    "        return dense_matrix\n",
    "\n",
    "    def fit_transform(self, words: List[str]) -> List[Dict[int, int]]:\n",
    "        \"\"\"fit과 transform을 한 번에 수행합니다.\"\"\"\n",
    "        self.fit(words)\n",
    "        return self.transform(words)"
   ]
  },
  {
   "cell_type": "code",
   "execution_count": 8,
   "metadata": {},
   "outputs": [
    {
     "name": "stdout",
     "output_type": "stream",
     "text": [
      "어휘 사전:\n",
      "{'나쵸': 0, '칠리소스': 1, '콘칩': 2, '팝콘': 3}\n",
      "\n",
      "희소 행렬:\n",
      "[0, 0, 0, 1]: 팝콘\n",
      "[0, 0, 1, 0]: 콘칩\n",
      "[1, 0, 0, 0]: 나쵸\n",
      "[0, 1, 0, 0]: 칠리소스\n",
      "[0, 0, 0, 1]: 팝콘\n",
      "[0, 0, 1, 0]: 콘칩\n",
      "[0, 0, 0, 1]: 팝콘\n"
     ]
    }
   ],
   "source": [
    "# 예제 사용\n",
    "words = [\"팝콘\", \"콘칩\", \"나쵸\", \"칠리소스\", \"팝콘\", \"콘칩\", \"팝콘\"]\n",
    "\n",
    "# 원-핫 인코더 생성 및 변환\n",
    "encoder = SparseOneHotEncoder()\n",
    "sparse_matrix = encoder.fit_transform(words)\n",
    "\n",
    "# 결과 출력\n",
    "print(\"어휘 사전:\")\n",
    "print(encoder.word_to_index)\n",
    "\n",
    "print(\"\\n희소 행렬:\")\n",
    "for i, row in enumerate(sparse_matrix):\n",
    "    print(f\"{row}: {words[i]}\")"
   ]
  }
 ],
 "metadata": {
  "kernelspec": {
   "display_name": ".venv",
   "language": "python",
   "name": "python3"
  },
  "language_info": {
   "codemirror_mode": {
    "name": "ipython",
    "version": 3
   },
   "file_extension": ".py",
   "mimetype": "text/x-python",
   "name": "python",
   "nbconvert_exporter": "python",
   "pygments_lexer": "ipython3",
   "version": "3.11.11"
  }
 },
 "nbformat": 4,
 "nbformat_minor": 2
}
