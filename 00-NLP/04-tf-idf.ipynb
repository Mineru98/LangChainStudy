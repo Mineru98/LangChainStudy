{
 "cells": [
  {
   "cell_type": "code",
   "execution_count": 1,
   "metadata": {},
   "outputs": [],
   "source": [
    "from collections import Counter\n",
    "\n",
    "def compute_tf(text: str) -> Counter:\n",
    "    tf_text = Counter(text)\n",
    "    for word in tf_text:\n",
    "        tf_text[word] = tf_text[word] / float(len(text))\n",
    "    return tf_text"
   ]
  },
  {
   "cell_type": "code",
   "execution_count": 2,
   "metadata": {},
   "outputs": [],
   "source": [
    "import math\n",
    "from typing import List\n",
    "\n",
    "def compute_idf(word: str, corpus: List[str]) -> float:\n",
    "    return math.log10(len(corpus) / sum(1 for text in corpus if word in text))"
   ]
  },
  {
   "cell_type": "code",
   "execution_count": 3,
   "metadata": {},
   "outputs": [],
   "source": [
    "from typing import List, Dict\n",
    "\n",
    "def compute_tf_idf(corpus) -> List[Dict[str, float]]:\n",
    "    documents_list = [text.split() for text in corpus]\n",
    "    tf_idf = []\n",
    "    for text in documents_list:\n",
    "        tf_idf_text = {}\n",
    "        computed_tf = compute_tf(text)\n",
    "        for word in computed_tf:\n",
    "            tf_idf_text[word] = computed_tf[word] * compute_idf(word, documents_list)\n",
    "        tf_idf.append(tf_idf_text)\n",
    "    return tf_idf"
   ]
  },
  {
   "cell_type": "code",
   "execution_count": 4,
   "metadata": {},
   "outputs": [],
   "source": [
    "from typing import List, Dict, Tuple\n",
    "\n",
    "def get_scores_for_word(\n",
    "    word: str, tf_idf: List[Dict[str, float]]\n",
    ") -> List[Tuple[int, float]]:\n",
    "    scores = []\n",
    "    for i, doc in enumerate(tf_idf):\n",
    "        if word in doc:\n",
    "            scores.append((i + 1, doc[word]))  # 문서 번호와 점수 저장\n",
    "        else:\n",
    "            scores.append((i + 1, 0.0))  # 단어가 없는 문서는 0점\n",
    "    return scores"
   ]
  },
  {
   "cell_type": "code",
   "execution_count": 5,
   "metadata": {},
   "outputs": [
    {
     "name": "stdout",
     "output_type": "stream",
     "text": [
      "Document 1: {'고소한': 0.15904041823988746, '갈릭': 0.15904041823988746, '팝콘': 0.058697086351893746}\n",
      "Document 2: {'청량감': 0.15904041823988746, '넘치는': 0.15904041823988746, '콜라': 0.15904041823988746}\n",
      "Document 3: {'카라멜과': 0.11928031367991561, '오리지널': 0.11928031367991561, '반반': 0.11928031367991561, '팝콘': 0.04402281476392031}\n"
     ]
    }
   ],
   "source": [
    "corpus = [\n",
    "    \"고소한 갈릭 팝콘\",\n",
    "    \"청량감 넘치는 콜라\",\n",
    "    \"카라멜과 오리지널 반반 팝콘\",\n",
    "]\n",
    "tf_idf = compute_tf_idf(corpus)\n",
    "for i, doc in enumerate(tf_idf):\n",
    "    print(f\"Document {i+1}: {doc}\")"
   ]
  },
  {
   "cell_type": "code",
   "execution_count": 6,
   "metadata": {},
   "outputs": [],
   "source": [
    "# 검색할 단어 입력\n",
    "search_word = \"팝콘\"\n",
    "scores = get_scores_for_word(search_word, tf_idf)"
   ]
  },
  {
   "cell_type": "code",
   "execution_count": 7,
   "metadata": {},
   "outputs": [
    {
     "name": "stdout",
     "output_type": "stream",
     "text": [
      "\n",
      "Scores for the word '팝콘':\n",
      "Document 1: 0.058697086351893746\n",
      "Document 2: 0.0\n",
      "Document 3: 0.04402281476392031\n"
     ]
    }
   ],
   "source": [
    "# 검색 결과 출력\n",
    "print(f\"\\nScores for the word '{search_word}':\")\n",
    "for doc_num, score in scores:\n",
    "    print(f\"Document {doc_num}: {score}\")"
   ]
  }
 ],
 "metadata": {
  "kernelspec": {
   "display_name": ".venv",
   "language": "python",
   "name": "python3"
  },
  "language_info": {
   "codemirror_mode": {
    "name": "ipython",
    "version": 3
   },
   "file_extension": ".py",
   "mimetype": "text/x-python",
   "name": "python",
   "nbconvert_exporter": "python",
   "pygments_lexer": "ipython3",
   "version": "3.11.11"
  }
 },
 "nbformat": 4,
 "nbformat_minor": 2
}
