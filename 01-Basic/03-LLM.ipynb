{
 "cells": [
  {
   "cell_type": "markdown",
   "metadata": {},
   "source": [
    "### LLM 실행해보기"
   ]
  },
  {
   "cell_type": "code",
   "execution_count": 1,
   "metadata": {},
   "outputs": [
    {
     "data": {
      "text/plain": [
       "True"
      ]
     },
     "execution_count": 1,
     "metadata": {},
     "output_type": "execute_result"
    }
   ],
   "source": [
    "# API KEY 값이 들어 있는 환경 변수 로드\n",
    "# 새로운 실습 파일이 만들어 질 때마다 맨 상위에 항상 해당 코드를 넣어주세요.\n",
    "from dotenv import load_dotenv\n",
    "\n",
    "load_dotenv()"
   ]
  },
  {
   "cell_type": "markdown",
   "metadata": {},
   "source": [
    "### OpenAI LLM 실행 설정\n",
    "\n",
    "이번에 직접 실행 해볼 코드는 OpenAI의 ChatGPT와 동일하게 동작하는 API 전용 ChatGPT 모델을 사용해볼 겁니다.\n",
    "\n",
    "OpenAI API 전용 모델을 사용하기 위해서는 다음과 같은 설정 값들을 지정할 수 있습니다.\n",
    "\n",
    "- `temperature(default : 0.7)` : 모델의 출력 결과의 다양성을 조절하는 값입니다. 0에 가까울수록 출력 결과가 일관되고 2에 가까울수록 다양한 결과가 나옵니다. 팝콘을 튀길 때, 온도가 높으면 팝콘이 튀겨진 범위가 넓어져 예상하기 어려운 지점까지 튀겨지는 것처럼 모델의 출력 결과가 다양해집니다.\n",
    "또 다른 비유로 온도가 낮으면 분자들이 모여 있는 것처럼 모델의 출력 결과가 일관되는 경향이 있습니다.\n",
    "\n",
    "- `max_tokens(default : None)` : 모델이 생성할 수 있는 최대 토큰 수를 지정합니다. 1 토큰은 한 글자보다는 더 많을 수도 있습니다. 토큰 계산은 모델마다 상이해지며 비용 측정을 입력한 토큰 갯수와 출력한 토큰 갯수 별로 사용량이 측정됩니다.\n",
    "\n",
    "- `model_name` : 사용할 모델의 이름을 지정합니다.\n",
    "    - `gpt-4o` : OpenAI의 가장 강력한 최신 모델\n",
    "    - `gpt-4o-mini` : OpenAI의 최신 가성비 모델\n",
    "    - `o1-preview`, `o1-preview-mini` : OpenAI의 최신 추론 모델\n",
    "\n"
   ]
  },
  {
   "cell_type": "code",
   "execution_count": 2,
   "metadata": {},
   "outputs": [
    {
     "name": "stdout",
     "output_type": "stream",
     "text": [
      "[답변]: content='팝콘은 주로 팝콘 옥수수(zea mays everta)라는 특별한 종류의 옥수수로 만들어집니다. 이 옥수수는 수분이 포함된 전분이 있는 단단한 껍질을 가지고 있습니다. 팝콘을 가열하면 내부의 수분이 증기로 변하면서 압력이 증가하고, 결국 껍질이 터지면서 팝콘이 부풀어 오릅니다. 이렇게 만들어진 팝콘은 간식으로 즐기거나 영화관에서 자주 먹는 인기 있는 음식입니다. 팝콘은 기름, 소금, 버터 등 다양한 재료와 함께 조리하여 맛을 낼 수 있습니다.' additional_kwargs={'refusal': None} response_metadata={'token_usage': {'completion_tokens': 155, 'prompt_tokens': 17, 'total_tokens': 172, 'completion_tokens_details': {'accepted_prediction_tokens': 0, 'audio_tokens': 0, 'reasoning_tokens': 0, 'rejected_prediction_tokens': 0}, 'prompt_tokens_details': {'audio_tokens': 0, 'cached_tokens': 0}}, 'model_name': 'gpt-4o-mini-2024-07-18', 'system_fingerprint': 'fp_f2cd28694a', 'finish_reason': 'stop', 'logprobs': None} id='run-e91f1ea4-f7ee-447f-b0fc-8f8b1e8864a1-0' usage_metadata={'input_tokens': 17, 'output_tokens': 155, 'total_tokens': 172, 'input_token_details': {'audio': 0, 'cache_read': 0}, 'output_token_details': {'audio': 0, 'reasoning': 0}}\n"
     ]
    }
   ],
   "source": [
    "from langchain_openai import ChatOpenAI\n",
    "\n",
    "# LLM 모델 정의\n",
    "llm = ChatOpenAI(\n",
    "    temperature=0.1,  # 팝콘이 튕겨저 나갈 범위 (0.0 ~ 2.0)\n",
    "    model_name=\"gpt-4o-mini\",  # 모델명\n",
    ")\n",
    "\n",
    "# 질문\n",
    "question = \"팝콘은 무엇으로 만들어졌나요?\"\n",
    "\n",
    "# 대답 요청\n",
    "print(f\"[답변]: {llm.invoke(question)}\")"
   ]
  },
  {
   "cell_type": "code",
   "execution_count": 3,
   "metadata": {},
   "outputs": [],
   "source": [
    "# 질문\n",
    "question = \"팝콘은 무엇으로 만들어졌나요?\"\n",
    "\n",
    "# 대답 요청\n",
    "answer = llm.invoke(question)"
   ]
  },
  {
   "cell_type": "code",
   "execution_count": 4,
   "metadata": {},
   "outputs": [
    {
     "data": {
      "text/plain": [
       "AIMessage(content='팝콘은 주로 팝콘 옥수수(zea mays everta)라는 특별한 종류의 옥수수로 만들어집니다. 이 옥수수는 수분이 포함된 단단한 껍질을 가지고 있으며, 내부에는 전분이 들어 있습니다. 팝콘을 가열하면 내부의 수분이 증기로 변하면서 압력이 증가하고, 결국 껍질이 터지면서 팝콘이 부풀어 오릅니다. 이렇게 팝콘이 만들어지는 과정은 열을 가할 때만 발생하며, 다른 종류의 옥수수는 이렇게 팝콘으로 변하지 않습니다.', additional_kwargs={'refusal': None}, response_metadata={'token_usage': {'completion_tokens': 141, 'prompt_tokens': 17, 'total_tokens': 158, 'completion_tokens_details': {'accepted_prediction_tokens': 0, 'audio_tokens': 0, 'reasoning_tokens': 0, 'rejected_prediction_tokens': 0}, 'prompt_tokens_details': {'audio_tokens': 0, 'cached_tokens': 0}}, 'model_name': 'gpt-4o-mini-2024-07-18', 'system_fingerprint': 'fp_01aeff40ea', 'finish_reason': 'stop', 'logprobs': None}, id='run-dd968101-702e-40bc-824a-51dce7fe3c34-0', usage_metadata={'input_tokens': 17, 'output_tokens': 141, 'total_tokens': 158, 'input_token_details': {'audio': 0, 'cache_read': 0}, 'output_token_details': {'audio': 0, 'reasoning': 0}})"
      ]
     },
     "execution_count": 4,
     "metadata": {},
     "output_type": "execute_result"
    }
   ],
   "source": [
    "answer"
   ]
  },
  {
   "cell_type": "code",
   "execution_count": 5,
   "metadata": {},
   "outputs": [
    {
     "data": {
      "text/plain": [
       "'팝콘은 주로 팝콘 옥수수(zea mays everta)라는 특별한 종류의 옥수수로 만들어집니다. 이 옥수수는 수분이 포함된 단단한 껍질을 가지고 있으며, 내부에는 전분이 들어 있습니다. 팝콘을 가열하면 내부의 수분이 증기로 변하면서 압력이 증가하고, 결국 껍질이 터지면서 팝콘이 부풀어 오릅니다. 이렇게 팝콘이 만들어지는 과정은 열을 가할 때만 발생하며, 다른 종류의 옥수수는 이렇게 팝콘으로 변하지 않습니다.'"
      ]
     },
     "execution_count": 5,
     "metadata": {},
     "output_type": "execute_result"
    }
   ],
   "source": [
    "answer.content"
   ]
  },
  {
   "cell_type": "code",
   "execution_count": 6,
   "metadata": {},
   "outputs": [
    {
     "data": {
      "text/plain": [
       "{'token_usage': {'completion_tokens': 141,\n",
       "  'prompt_tokens': 17,\n",
       "  'total_tokens': 158,\n",
       "  'completion_tokens_details': {'accepted_prediction_tokens': 0,\n",
       "   'audio_tokens': 0,\n",
       "   'reasoning_tokens': 0,\n",
       "   'rejected_prediction_tokens': 0},\n",
       "  'prompt_tokens_details': {'audio_tokens': 0, 'cached_tokens': 0}},\n",
       " 'model_name': 'gpt-4o-mini-2024-07-18',\n",
       " 'system_fingerprint': 'fp_01aeff40ea',\n",
       " 'finish_reason': 'stop',\n",
       " 'logprobs': None}"
      ]
     },
     "execution_count": 6,
     "metadata": {},
     "output_type": "execute_result"
    }
   ],
   "source": [
    "answer.response_metadata"
   ]
  },
  {
   "cell_type": "markdown",
   "metadata": {},
   "source": [
    "- `prompt_tokens` : 입력 토큰 수, `question`의 글자 수는 16개 이지만 입력 토큰 수는 17개 입니다. (뭔가 맞는 것 같으면서 안맞습니다.)\n",
    "- `completion_tokens` : 출력 토큰 수, `answer`의 글자 수는 229개 이지만 출력 토큰 수는 158개 입니다. (이건 확실하게 안 맞는 것 같습니다.)\n",
    "- `total_tokens` : 입력 토큰 수 + 출력 토큰 수\n",
    "- `finish_reason` : 모델이 출력을 중단한 이유, `stop`으로 된 것이라면 정상적으로 완결을 지었다고 이해를 해야합니다.\n",
    "하지만 외부 요인이나 어떠한 조건에 의해서 출력 도중에 중단이 될 수도 있습니다.\n",
    "예를 들면, max length 조건(`length`)에 의해서 출력 도중에 중단이 된다거나, 규정 위반이 되는 요청을 날려 필터링에 걸렸다거나(`content_filter`)\n",
    "다른 특수한 요청을 한 경우(`tool_calls`, `funcation_call`)에 대한 결과나 나오기도 합니다."
   ]
  },
  {
   "cell_type": "markdown",
   "metadata": {},
   "source": [
    "정확한 진단을 하기 위해서는 다음과 같이 입력으로 사용 된 프롬프트와 출력값을 직접 토크나이저를 통해 실제 토큰 수를 계산 할 수 있습니다.\n",
    "\n",
    "`tiktoken`는 OpenAI에서 공식적으로 제공하는 토크나이저 라이브러리 입니다.\n",
    "\n",
    "이 라이브러리를 사용하게 되면, 내 장비에서 미리 프롬프트들을 넣어서 얼마나 토큰이 소모가 되는지 미리 계산해볼 수 있어 입력에 대한 비용 예측이 가능합니다."
   ]
  },
  {
   "cell_type": "code",
   "execution_count": 20,
   "metadata": {},
   "outputs": [
    {
     "name": "stdout",
     "output_type": "stream",
     "text": [
      "[11073, 251, 90072, 4740, 103740, 9911, 92980, 65713, 151413, 30]\n",
      "10 토큰\n",
      "팝콘은 무엇으로 만들어졌나요?\n",
      "[11073, 251, 90072, 4740, 16130, 3710, 19839, 251, 90072, 8970, 98, 7820, 7820, 7, 57501, 284, 1044, 4862, 1524, 8, 83564, 136828, 3748, 154479, 3408, 8970, 98, 7820, 7820, 3710, 92980, 30253, 6479, 13, 6548, 8970, 98, 7820, 7820, 2770, 8963, 15567, 2186, 79778, 17498, 38340, 17677, 3748, 1774, 119, 235, 30570, 3281, 113147, 96864, 11, 183876, 40789, 12946, 15567, 2186, 57217, 25824, 13, 19839, 251, 90072, 3281, 9919, 40196, 56791, 183876, 3408, 8963, 15567, 2186, 56358, 152240, 38152, 105991, 170735, 140178, 109238, 17231, 11, 183270, 1774, 119, 235, 30570, 2186, 140628, 3908, 42856, 19839, 251, 90072, 2186, 20211, 141014, 5959, 20859, 3828, 162551, 13, 124785, 19839, 251, 90072, 2186, 92980, 68299, 121551, 4740, 49496, 3281, 9919, 13070, 23553, 10452, 72121, 63912, 11, 51484, 154479, 3408, 8970, 98, 7820, 7820, 2770, 124785, 19839, 251, 90072, 9911, 38152, 44531, 113243, 13]\n",
      "140 토큰\n",
      "팝콘은 주로 팝콘 옥수수(zea mays everta)라는 특별한 종류의 옥수수로 만들어집니다. 이 옥수수는 수분이 포함된 단단한 껍질을 가지고 있으며, 내부에는 전분이 들어 있습니다. 팝콘을 가열하면 내부의 수분이 증기로 변하면서 압력이 증가하고, 결국 껍질이 터지면서 팝콘이 부풀어 오릅니다. 이렇게 팝콘이 만들어지는 과정은 열을 가할 때만 발생하며, 다른 종류의 옥수수는 이렇게 팝콘으로 변하지 않습니다.\n"
     ]
    }
   ],
   "source": [
    "# Open AI의 토크나이저 라이브러리\n",
    "import tiktoken\n",
    "\n",
    "enc = tiktoken.encoding_for_model(\"gpt-4o-mini\")\n",
    "\n",
    "print(enc.encode(question))\n",
    "print(len(enc.encode(question)), \"토큰\")\n",
    "print(enc.decode(enc.encode(question)))\n",
    "\n",
    "print(enc.encode(answer.content))\n",
    "print(len(enc.encode(answer.content)), \"토큰\")\n",
    "print(enc.decode(enc.encode(answer.content)))"
   ]
  },
  {
   "cell_type": "markdown",
   "metadata": {},
   "source": [
    "`encode` 함수는 문자로 된 데이터를 수치 데이터로 만드는 역할을 합니다.\n",
    "\n",
    "반대로, `decode` 함수는 수치 데이터를 문자로 만드는 역할을 합니다.\n",
    "\n",
    "\n",
    "실제 LLM은 텍스트나 이미지 등 다양한 형태의 데이터를 입력으로 넣게 되면 이를 반드시 토큰으로 변환하여 처리합니다.\n",
    "\n",
    "그리고 수치 데이터로 만든 값으로 다음에 올 토큰을 예측하여 멈춰야 할 토큰이 나올 때까지 출력을 계속 진행합니다."
   ]
  },
  {
   "cell_type": "code",
   "execution_count": 54,
   "metadata": {},
   "outputs": [],
   "source": [
    "import tiktoken\n",
    "\n",
    "def num_tokens_from_messages(messages, model=\"gpt-4o-mini\"):\n",
    "    encoding = tiktoken.encoding_for_model(model)\n",
    "    chat_template = []\n",
    "    num_tokens = 0\n",
    "    tokens_per_message = 3\n",
    "    tokens_per_name = 1\n",
    "\n",
    "    for message in messages:\n",
    "        role = message.get(\"role\", \"\")\n",
    "        content = message.get(\"content\", \"\")\n",
    "        name = message.get(\"name\", \"\")\n",
    "        \n",
    "        if role == \"system\":\n",
    "            template = f\"<|startoftext|>system<|endoftext|>{content}\"\n",
    "        elif role == \"user\":\n",
    "            template = f\"<|startoftext|>user<|endoftext|>{content}\"\n",
    "        elif role == \"assistant\":\n",
    "            template = f\"<|startoftext|>assistant<|endoftext|>{content}\"\n",
    "        \n",
    "        if name:\n",
    "            template = f\"{name}\\n{template}\"\n",
    "            num_tokens += tokens_per_name\n",
    "        \n",
    "        chat_template.append(template)\n",
    "        \n",
    "        num_tokens += tokens_per_message\n",
    "        num_tokens += len(encoding.encode(template, allowed_special={\"<|startoftext|>\", \"user\", \"assistant\", \"<|endoftext|>\"}))\n",
    "\n",
    "    if len(messages) == 1:\n",
    "        if messages[0][\"role\"] == \"user\":\n",
    "            chat_template.append(\"<|startoftext|>assistant<|endoftext|>\")\n",
    "        elif messages[0][\"role\"] == \"assistant\":\n",
    "            chat_template.append(\"<|startoftext|>user<|endoftext|>\")\n",
    "        num_tokens += 3\n",
    "\n",
    "    return \"\\n\".join(chat_template), num_tokens"
   ]
  },
  {
   "cell_type": "code",
   "execution_count": 55,
   "metadata": {},
   "outputs": [
    {
     "data": {
      "text/plain": [
       "('<|startoftext|>user<|endoftext|>팝콘은 무엇으로 만들어졌나요?\\n<|startoftext|>assistant<|endoftext|>',\n",
       " 25)"
      ]
     },
     "execution_count": 55,
     "metadata": {},
     "output_type": "execute_result"
    }
   ],
   "source": [
    "num_tokens_from_messages([{\"role\": \"user\", \"content\": question}])"
   ]
  },
  {
   "cell_type": "code",
   "execution_count": 56,
   "metadata": {},
   "outputs": [
    {
     "data": {
      "text/plain": [
       "('<|startoftext|>assistant<|endoftext|>팝콘은 주로 팝콘 옥수수(zea mays everta)라는 특별한 종류의 옥수수로 만들어집니다. 이 옥수수는 수분이 포함된 단단한 껍질을 가지고 있으며, 내부에는 전분이 들어 있습니다. 팝콘을 가열하면 내부의 수분이 증기로 변하면서 압력이 증가하고, 결국 껍질이 터지면서 팝콘이 부풀어 오릅니다. 이렇게 팝콘이 만들어지는 과정은 열을 가할 때만 발생하며, 다른 종류의 옥수수는 이렇게 팝콘으로 변하지 않습니다.\\n<|startoftext|>user<|endoftext|>',\n",
       " 155)"
      ]
     },
     "execution_count": 56,
     "metadata": {},
     "output_type": "execute_result"
    }
   ],
   "source": [
    "num_tokens_from_messages([{\"role\": \"assistant\", \"content\": answer.content}])"
   ]
  },
  {
   "cell_type": "code",
   "execution_count": 57,
   "metadata": {},
   "outputs": [
    {
     "data": {
      "text/plain": [
       "('<|startoftext|>user<|endoftext|>팝콘은 무엇으로 만들어졌나요?\\n<|startoftext|>assistant<|endoftext|>팝콘은 주로 팝콘 옥수수(zea mays everta)라는 특별한 종류의 옥수수로 만들어집니다. 이 옥수수는 수분이 포함된 단단한 껍질을 가지고 있으며, 내부에는 전분이 들어 있습니다. 팝콘을 가열하면 내부의 수분이 증기로 변하면서 압력이 증가하고, 결국 껍질이 터지면서 팝콘이 부풀어 오릅니다. 이렇게 팝콘이 만들어지는 과정은 열을 가할 때만 발생하며, 다른 종류의 옥수수는 이렇게 팝콘으로 변하지 않습니다.',\n",
       " 174)"
      ]
     },
     "execution_count": 57,
     "metadata": {},
     "output_type": "execute_result"
    }
   ],
   "source": [
    "num_tokens_from_messages([{\"role\": \"user\", \"content\": question}, {\"role\": \"assistant\", \"content\": answer.content}])"
   ]
  }
 ],
 "metadata": {
  "kernelspec": {
   "display_name": "Python 3",
   "language": "python",
   "name": "python3"
  },
  "language_info": {
   "codemirror_mode": {
    "name": "ipython",
    "version": 3
   },
   "file_extension": ".py",
   "mimetype": "text/x-python",
   "name": "python",
   "nbconvert_exporter": "python",
   "pygments_lexer": "ipython3",
   "version": "3.11.11"
  }
 },
 "nbformat": 4,
 "nbformat_minor": 2
}
