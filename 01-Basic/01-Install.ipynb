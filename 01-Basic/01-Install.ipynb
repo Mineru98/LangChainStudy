{
 "cells": [
  {
   "cell_type": "code",
   "execution_count": 3,
   "metadata": {},
   "outputs": [
    {
     "name": "stdout",
     "output_type": "stream",
     "text": [
      "Note: you may need to restart the kernel to use updated packages.\n",
      "Note: you may need to restart the kernel to use updated packages.\n"
     ]
    }
   ],
   "source": [
    "# 랭체인 모듈 설치\n",
    "%pip install -q langchain==0.3.14\n",
    "# Open AI 라이브러리 설치\n",
    "%pip install -q langchain-openai"
   ]
  },
  {
   "cell_type": "code",
   "execution_count": 6,
   "metadata": {},
   "outputs": [
    {
     "name": "stdout",
     "output_type": "stream",
     "text": [
      "Package                  Version\n",
      "------------------------ -----------\n",
      "aiohappyeyeballs         2.4.4\n",
      "aiohttp                  3.11.11\n",
      "aiosignal                1.3.2\n",
      "annotated-types          0.7.0\n",
      "anyio                    4.8.0\n",
      "asttokens                3.0.0\n",
      "attrs                    24.3.0\n",
      "certifi                  2024.12.14\n",
      "charset-normalizer       3.4.1\n",
      "colorama                 0.4.6\n",
      "comm                     0.2.2\n",
      "debugpy                  1.8.11\n",
      "decorator                5.1.1\n",
      "distro                   1.9.0\n",
      "exceptiongroup           1.2.2\n",
      "executing                2.1.0\n",
      "frozenlist               1.5.0\n",
      "greenlet                 3.1.1\n",
      "h11                      0.14.0\n",
      "httpcore                 1.0.7\n",
      "httpx                    0.28.1\n",
      "idna                     3.10\n",
      "importlib_metadata       8.5.0\n",
      "ipykernel                6.29.5\n",
      "ipython                  8.31.0\n",
      "jedi                     0.19.2\n",
      "jiter                    0.8.2\n",
      "jsonpatch                1.33\n",
      "jsonpointer              3.0.0\n",
      "jupyter_client           8.6.3\n",
      "jupyter_core             5.7.2\n",
      "langchain                0.3.14\n",
      "langchain-core           0.3.29\n",
      "langchain-openai         0.2.14\n",
      "langchain-text-splitters 0.3.5\n",
      "langsmith                0.2.10\n",
      "matplotlib-inline        0.1.7\n",
      "multidict                6.1.0\n",
      "nest_asyncio             1.6.0\n",
      "numpy                    1.26.4\n",
      "openai                   1.59.5\n",
      "orjson                   3.10.14\n",
      "packaging                24.2\n",
      "parso                    0.8.4\n",
      "pickleshare              0.7.5\n",
      "pip                      24.2\n",
      "platformdirs             4.3.6\n",
      "prompt_toolkit           3.0.48\n",
      "propcache                0.2.1\n",
      "psutil                   6.1.1\n",
      "pure_eval                0.2.3\n",
      "pydantic                 2.10.5\n",
      "pydantic_core            2.27.2\n",
      "Pygments                 2.19.1\n",
      "python-dateutil          2.9.0.post0\n",
      "pywin32                  307\n",
      "PyYAML                   6.0.2\n",
      "pyzmq                    26.2.0\n",
      "regex                    2024.11.6\n",
      "requests                 2.32.3\n",
      "requests-toolbelt        1.0.0\n",
      "setuptools               75.1.0\n",
      "six                      1.17.0\n",
      "sniffio                  1.3.1\n",
      "SQLAlchemy               2.0.36\n",
      "stack_data               0.6.3\n",
      "tenacity                 9.0.0\n",
      "tiktoken                 0.8.0\n",
      "tornado                  6.4.2\n",
      "tqdm                     4.67.1\n",
      "traitlets                5.14.3\n",
      "typing_extensions        4.12.2\n",
      "urllib3                  2.3.0\n",
      "wcwidth                  0.2.13\n",
      "wheel                    0.44.0\n",
      "yarl                     1.18.3\n",
      "zipp                     3.21.0\n",
      "Note: you may need to restart the kernel to use updated packages.\n"
     ]
    }
   ],
   "source": [
    "# 랭체인 설치 확인\n",
    "%pip list"
   ]
  },
  {
   "cell_type": "markdown",
   "metadata": {},
   "source": [
    "_text editor_ 혹은 _scrollable element_ 를 클릭해서 결과들을 자세히 볼 수 있도록 합니다."
   ]
  }
 ],
 "metadata": {
  "kernelspec": {
   "display_name": "Python 3",
   "language": "python",
   "name": "python3"
  },
  "language_info": {
   "codemirror_mode": {
    "name": "ipython",
    "version": 3
   },
   "file_extension": ".py",
   "mimetype": "text/x-python",
   "name": "python",
   "nbconvert_exporter": "python",
   "pygments_lexer": "ipython3",
   "version": "3.11.11"
  }
 },
 "nbformat": 4,
 "nbformat_minor": 2
}
